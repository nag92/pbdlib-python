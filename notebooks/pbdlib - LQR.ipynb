{
 "cells": [
  {
   "cell_type": "markdown",
   "metadata": {},
   "source": "$\n\\newcommand{\\Tau}{\\mathcal{T}}\n\\newcommand{\\bm}[1]{{\\boldsymbol{#1}}}\n\\newcommand{\\dt}[1]{{\\frac{d#1}{dt}}}\n%\\newcommand{\\bm}{\\mathbf{#1}}\n\\newcommand{\\trsp}{{\\scriptscriptstyle\\top}}$"
  },
  {
   "cell_type": "code",
   "execution_count": null,
   "metadata": {},
   "outputs": [],
   "source": "import os\nimport numpy as np\nimport matplotlib.pyplot as plt\nimport pbdlib as pbd\n\n%matplotlib inline\n%load_ext autoreload\n%autoreload 2"
  },
  {
   "cell_type": "markdown",
   "metadata": {},
   "source": "# Hidden Markov Model and LQR\nThis is an example of learning a HMM over some trajectories demonstrations and reproducing it using optimal control.\nMore infos : http://calinon.ch/papers/Calinon-JIST2015.pdf, http://calinon.ch/papers/Calinon-HFR2016.pdf\n"
  },
  {
   "cell_type": "markdown",
   "metadata": {
    "collapsed": true
   },
   "source": "## Learning Hidden Markov Model (HMM)"
  },
  {
   "cell_type": "code",
   "execution_count": null,
   "metadata": {},
   "outputs": [],
   "source": "from scipy.io import loadmat # loading data from matlab\n\nletter = 'C' # choose a letter in the alphabet\n\ndatapath = os.path.dirname(pbd.__file__) + '/data/2Dletters/'\ndata = loadmat(datapath + '%s.mat' % letter)\n\ndemos_x = [d['pos'][0][0].T for d in data['demos'][0]] # Position data\ndemos_dx = [d['vel'][0][0].T for d in data['demos'][0]] # Velocity data\ndemos_xdx = [np.hstack([_x, _dx]) for _x ,_dx in zip(demos_x, demos_dx)] # Position-velocity\nprint(demos_xdx)"
  },
  {
   "cell_type": "code",
   "execution_count": null,
   "metadata": {},
   "outputs": [],
   "source": "model = pbd.HMM(nb_states=3, nb_dim=4)\n\nmodel.init_hmm_kbins(demos_xdx) # initializing model\n\n# EM to train model\nmodel.em(demos_xdx, reg=1e-3) \n\n\n# plotting\nfig, ax = plt.subplots(ncols=3)\nfig.set_size_inches(12,3.5)\n\n# position plotting\nax[0].set_title('pos')\nfor p in demos_x:\n    ax[0].plot(p[:, 0], p[:, 1])\n    \npbd.plot_gmm(model.mu, model.sigma, ax=ax[0], dim=[0, 1]); \n\n# velocity plotting\nax[1].set_title('vel')\nfor p in demos_dx:\n    ax[1].plot(p[:, 0], p[:, 1])\n    \npbd.plot_gmm(model.mu, model.sigma, ax=ax[1], dim=[2, 3]); \n\n\n# plotting transition matrix\nax[2].set_title('transition')\nax[2].imshow(np.log(model.Trans+1e-10), interpolation='nearest', vmin=-5, cmap='viridis');\nplt.tight_layout()"
  },
  {
   "cell_type": "markdown",
   "metadata": {},
   "source": "# Reproduction (LQR) \nUsing Product of Gaussian formulation with augmented transfer matrices see : http://calinon.ch/papers/Calinon-HFR2016.pdf"
  },
  {
   "cell_type": "markdown",
   "metadata": {},
   "source": "### Get sequence of states "
  },
  {
   "cell_type": "code",
   "execution_count": null,
   "metadata": {},
   "outputs": [],
   "source": "demo_idx = 0\nsq = model.viterbi(demos_xdx[demo_idx])\n\nplt.figure(figsize=(5, 1))\n# plt.axis('off')\nplt.plot(sq, lw=3);\nplt.xlabel('timestep');"
  },
  {
   "cell_type": "markdown",
   "metadata": {},
   "source": "## Create and solve LQR "
  },
  {
   "cell_type": "code",
   "execution_count": null,
   "metadata": {},
   "outputs": [],
   "source": "A, b = pbd.utils.get_canonical(2, 2, 0.01)"
  },
  {
   "cell_type": "code",
   "execution_count": null,
   "metadata": {},
   "outputs": [],
   "source": "lqr = pbd.LQR(A, b, horizon=demos_xdx[demo_idx].shape[0])\nlqr.gmm_xi = model, sq\nlqr.gmm_u = -4."
  },
  {
   "cell_type": "code",
   "execution_count": null,
   "metadata": {},
   "outputs": [],
   "source": "lqr.ricatti()"
  },
  {
   "cell_type": "code",
   "execution_count": null,
   "metadata": {},
   "outputs": [],
   "source": "xi, _ = lqr.get_seq(demos_xdx[demo_idx][0])"
  },
  {
   "cell_type": "markdown",
   "metadata": {},
   "source": "## Plotting reproduced trajectory (position and velocity)"
  },
  {
   "cell_type": "code",
   "execution_count": null,
   "metadata": {},
   "outputs": [],
   "source": "fig, ax = plt.subplots(ncols=2)\nfig.set_size_inches(16,8)\n\n\n# position plotting \nax[0].set_title('position')\nfor p in demos_x:\n    ax[0].plot(p[:, 0], p[:, 1], alpha=0.4)\npbd.plot_gmm(model.mu, model.sigma, ax=ax[0], dim=[0, 1]); \n    \nax[0].plot(xi[:, 0], xi[:, 1], 'b', lw=3)\nax[0].plot(lqr.ds[:, 0], lqr.ds[:, 1], 'gold', lw=3)\n\n\n# velocity plotting\nax[1].set_title('velocity')\nfor p in demos_dx:\n    ax[1].plot(p[:, 0], p[:, 1], alpha=0.4)\n    \nax[1].plot(xi[:, 2], xi[:, 3], 'b', lw=3, label='repro')\nax[1].plot(lqr.ds[:, 2], lqr.ds[:, 3], 'gold', lw=3)\n\nplt.legend()\npbd.plot_gmm(model.mu, model.sigma, ax=ax[1], dim=[2, 3]); \n"
  },
  {
   "cell_type": "code",
   "execution_count": null,
   "metadata": {},
   "outputs": [],
   "source": ""
  }
 ],
 "metadata": {
  "anaconda-cloud": {},
  "hide_input": false,
  "kernelspec": {
   "display_name": "Python 2",
   "language": "python",
   "name": "python2"
  },
  "language_info": {
   "codemirror_mode": {
    "name": "ipython",
    "version": 2
   },
   "file_extension": ".py",
   "mimetype": "text/x-python",
   "name": "python",
   "nbconvert_exporter": "python",
   "pygments_lexer": "ipython2",
   "version": "2.7.17"
  },
  "latex_envs": {
   "bibliofile": "biblio.bib",
   "cite_by": "apalike",
   "current_citInitial": 1,
   "eqLabelWithNumbers": true,
   "eqNumInitial": 0
  }
 },
 "nbformat": 4,
 "nbformat_minor": 1
}
